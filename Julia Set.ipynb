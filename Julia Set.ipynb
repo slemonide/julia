{
 "cells": [
  {
   "cell_type": "code",
   "execution_count": 83,
   "metadata": {
    "collapsed": true
   },
   "outputs": [],
   "source": [
    "using Plots"
   ]
  },
  {
   "cell_type": "code",
   "execution_count": 52,
   "metadata": {},
   "outputs": [
    {
     "data": {
      "text/plain": [
       "r (generic function with 1 method)"
      ]
     },
     "execution_count": 52,
     "metadata": {},
     "output_type": "execute_result"
    }
   ],
   "source": [
    "function r(x)\n",
    "    return x^2 + 0.5 + 0.2im\n",
    "end"
   ]
  },
  {
   "cell_type": "code",
   "execution_count": 47,
   "metadata": {},
   "outputs": [
    {
     "data": {
      "text/plain": [
       "g (generic function with 1 method)"
      ]
     },
     "execution_count": 47,
     "metadata": {},
     "output_type": "execute_result"
    }
   ],
   "source": [
    "function g(f, i)\n",
    "    result = i\n",
    "    for i=1:10\n",
    "        result = f(result)\n",
    "    end\n",
    "    return result\n",
    "end"
   ]
  },
  {
   "cell_type": "code",
   "execution_count": 81,
   "metadata": {},
   "outputs": [
    {
     "name": "stdout",
     "output_type": "stream",
     "text": [
      "..............................................................................................\n",
      "..............................................................................................\n",
      "..............................................................................................\n",
      "..............................................................................................\n",
      "..............................................................................................\n",
      "..............................................................................................\n",
      "..............................................................................................\n",
      "..............................................................................................\n",
      "..............................................................................................\n",
      "..............................................................................................\n",
      "..............................................................................................\n",
      "..............................................................................................\n",
      "..............................................................................................\n",
      "..............................................................................................\n",
      "..............................................................................................\n",
      "..............................................................................................\n",
      "..............................................................................................\n",
      "...............................................................................#..............\n",
      "...........................................................................##..###............\n",
      "..........................................................................###..##.............\n",
      "..........................................................................##..................\n",
      "..............................................................................................\n",
      "..............................................................................................\n",
      "........................................................................................#.....\n",
      "........................................................................................##....\n",
      "..............................................................................................\n",
      "..............................................................................................\n",
      ".....................................................................................###......\n",
      ".....................................................................................#####....\n",
      ".....................................................................................####.....\n",
      "......................................................................................#.......\n",
      "..............................................................................................\n",
      "...............####...........................................................................\n",
      "...............####...........................................................................\n",
      ".................#............................................................................\n",
      "..............................................................................................\n",
      "......................##......................................................................\n",
      "....###............#####......................................................................\n",
      ".....##...........######......................................................................\n",
      ".................#######......................................................................\n",
      "...#.............######.......................................................................\n",
      "...#.............######.......................................................................\n",
      "...#..............#####.......................................................................\n",
      "..............................................................................................\n",
      "..............................................................................................\n",
      "..............................................................................................\n",
      "..............................................................................................\n",
      "..............................................................................................\n",
      "..............................................................................................\n",
      "..............................................................................................\n",
      "..............................................................................................\n",
      "........................................................................####..............#...\n",
      "........................................................................#####.............#...\n",
      "........................................................................#####.............##..\n",
      ".......................................................................######.................\n",
      "......................................................................#######..........##.....\n",
      "......................................................................######...........###....\n",
      "......................................................................###...............#.....\n",
      "..............................................................................................\n",
      "..............................................................................................\n",
      "...........................................................................###................\n",
      "...........................................................................####...............\n",
      "..............................................................................................\n",
      "..............................................................................................\n",
      ".......##.....................................................................................\n",
      ".....#####....................................................................................\n",
      ".....#####....................................................................................\n",
      ".......##.....................................................................................\n",
      "..............................................................................................\n",
      ".....#........................................................................................\n",
      "....##........................................................................................\n",
      ".....#........................................................................................\n",
      "..............................................................................................\n",
      "...................#..........................................................................\n",
      ".............##...##..........................................................................\n",
      ".............##..##...........................................................................\n",
      "..............#...............................................................................\n",
      "..............................................................................................\n",
      "..............................................................................................\n",
      "..............................................................................................\n",
      "..............................................................................................\n",
      "..............................................................................................\n",
      "..............................................................................................\n",
      "..............................................................................................\n",
      "..............................................................................................\n",
      "..............................................................................................\n",
      "..............................................................................................\n",
      "..............................................................................................\n",
      "..............................................................................................\n",
      "..............................................................................................\n"
     ]
    },
    {
     "name": "stdout",
     "output_type": "stream",
     "text": [
      "..............................................................................................\n",
      "..............................................................................................\n",
      "..............................................................................................\n",
      "..............................................................................................\n"
     ]
    }
   ],
   "source": [
    "a = rand() + rand() * im\n",
    "\n",
    "function r(x)\n",
    "    return x^2 + a\n",
    "end\n",
    "\n",
    "p = 1.4\n",
    "d = 0.03\n",
    "\n",
    "for dx = -p:d:p\n",
    "    for dy = -p:d:p\n",
    "        num = dx + dy * im\n",
    "        result = g(r, num)\n",
    "        if abs(result - num) < 1e8\n",
    "            print(\"#\")\n",
    "        else\n",
    "            print(\".\")\n",
    "        end\n",
    "    end\n",
    "    print(\"\\n\")\n",
    "end"
   ]
  },
  {
   "cell_type": "code",
   "execution_count": 63,
   "metadata": {},
   "outputs": [
    {
     "name": "stderr",
     "output_type": "stream",
     "text": [
      "\u001b[1m\u001b[36mINFO: \u001b[39m\u001b[22m\u001b[36mPrecompiling module PyPlot.\n",
      "\u001b[39m\u001b[1m\u001b[36mINFO: \u001b[39m\u001b[22m\u001b[36mInstalling matplotlib via the Conda matplotlib package...\n",
      "\u001b[39m"
     ]
    },
    {
     "name": "stdout",
     "output_type": "stream",
     "text": [
      "Solving environment: ...working... done\n"
     ]
    },
    {
     "name": "stderr",
     "output_type": "stream",
     "text": [
      "pyqt 5.6.0: ########## | 100% \n",
      "tornado 4.5.3: ########## | 100% \n",
      "jpeg 9b: ########## | 100% \n",
      "zlib 1.2.11: ########## | 100% \n",
      "qt 5.6.2: ########## | 100% \n",
      "python-dateutil 2.6.1: ########## | 100% \n",
      "backports.functools_lru_cache 1.4: ########## | 100% \n",
      "backports 1.0: ########## | 100% \n",
      "singledispatch 3.4.0.3: ########## | 100% \n",
      "matplotlib 2.1.2: ########## | 100% \n",
      "icu 58.2: ########## | 100% \n",
      "freetype 2.8: ########## | 100% \n",
      "ssl_match_hostname 3.5.0.1: ########## | 100% \n",
      "backports_abc 0.5: ########## | 100% \n",
      "cycler 0.10.0: ########## | 100% \n",
      "pyparsing 2.2.0: ########## | 100% \n",
      "pytz 2018.3: ########## | 100% \n",
      "libpng 1.6.34: ########## | 100% \n",
      "functools32 3.2.3.2: ########## | 100% \n",
      "sqlite 3.22.0: ########## | 100% \n",
      "sip 4.18.1: ########## | 100% "
     ]
    },
    {
     "name": "stdout",
     "output_type": "stream",
     "text": [
      "\n",
      "## Package Plan ##\n",
      "\n",
      "  environment location: C:\\Users\\root\\.julia\\v0.6\\Conda\\deps\\usr\n",
      "\n",
      "  added / updated specs: \n",
      "    - matplotlib\n",
      "\n",
      "\n",
      "The following packages will be downloaded:\n",
      "\n",
      "    package                    |            build\n",
      "    ---------------------------|-----------------\n",
      "    pyqt-5.6.0                 |   py27h224ed30_5         4.3 MB\n",
      "    tornado-4.5.3              |           py27_0         597 KB\n",
      "    jpeg-9b                    |       ha175dff_2         306 KB\n",
      "    zlib-1.2.11                |       hbc2faf4_2         117 KB\n",
      "    qt-5.6.2                   |   vc9hc26998b_12        55.9 MB\n",
      "    python-dateutil-2.6.1      |   py27hbdcc174_1         237 KB\n",
      "    backports.functools_lru_cache-1.4|   py27h9586e20_1           9 KB\n",
      "    backports-1.0              |   py27h6492d98_1           3 KB\n",
      "    singledispatch-3.4.0.3     |   py27h3f9d112_0          15 KB\n",
      "    matplotlib-2.1.2           |   py27ha51faf0_0         6.5 MB\n",
      "    icu-58.2                   |       h2aa20d9_1        21.9 MB\n",
      "    freetype-2.8               |       hea645e0_1         462 KB\n",
      "    ssl_match_hostname-3.5.0.1 |   py27hea8a0f4_2           9 KB\n",
      "    backports_abc-0.5          |   py27h0ec6b72_0          12 KB\n",
      "    cycler-0.10.0              |   py27h59acbbf_0          13 KB\n",
      "    pyparsing-2.2.0            |   py27hc7d9fa6_1          94 KB\n",
      "    pytz-2018.3                |           py27_0         211 KB\n",
      "    libpng-1.6.34              |       h325896a_0         535 KB\n",
      "    functools32-3.2.3.2        |   py27h0cdbcdb_1          22 KB\n",
      "    sqlite-3.22.0              |       h8b3e59e_0         831 KB\n",
      "    sip-4.18.1                 |   py27h5ec1c1a_2         264 KB\n",
      "    ------------------------------------------------------------\n",
      "                                           Total:        92.2 MB\n",
      "\n",
      "The following NEW packages will be INSTALLED:\n",
      "\n",
      "    backports:                     1.0-py27h6492d98_1    \n",
      "    backports.functools_lru_cache: 1.4-py27h9586e20_1    \n",
      "    backports_abc:                 0.5-py27h0ec6b72_0    \n",
      "    cycler:                        0.10.0-py27h59acbbf_0 \n",
      "    freetype:                      2.8-hea645e0_1        \n",
      "    functools32:                   3.2.3.2-py27h0cdbcdb_1\n",
      "    icu:                           58.2-h2aa20d9_1       \n",
      "    jpeg:                          9b-ha175dff_2         \n",
      "    libpng:                        1.6.34-h325896a_0     \n",
      "    matplotlib:                    2.1.2-py27ha51faf0_0  \n",
      "    pyparsing:                     2.2.0-py27hc7d9fa6_1  \n",
      "    pyqt:                          5.6.0-py27h224ed30_5  \n",
      "    python-dateutil:               2.6.1-py27hbdcc174_1  \n",
      "    pytz:                          2018.3-py27_0         \n",
      "    qt:                            5.6.2-vc9hc26998b_12  \n",
      "    singledispatch:                3.4.0.3-py27h3f9d112_0\n",
      "    sip:                           4.18.1-py27h5ec1c1a_2 \n",
      "    sqlite:                        3.22.0-h8b3e59e_0     \n",
      "    ssl_match_hostname:            3.5.0.1-py27hea8a0f4_2\n",
      "    tornado:                       4.5.3-py27_0          \n",
      "    zlib:                          1.2.11-hbc2faf4_2     \n",
      "\n",
      "\n",
      "Downloading and Extracting Packages\n",
      "Preparing transaction: ...working... done\n",
      "Verifying transaction: ...working... done\n",
      "Executing transaction: ...working... done\n"
     ]
    },
    {
     "name": "stderr",
     "output_type": "stream",
     "text": [
      "\r\n"
     ]
    },
    {
     "name": "stdout",
     "output_type": "stream",
     "text": [
      "if !Plots.is_installed(\"PyPlot\")\n",
      "    Pkg.add(\"PyPlot\")\n",
      "end\n",
      "withenv(\"PYTHON\" => \"\") do\n",
      "    Pkg.build(\"PyPlot\")\n",
      "end\n",
      "\n",
      "# now restart julia!\n",
      "\n",
      "\n"
     ]
    },
    {
     "name": "stderr",
     "output_type": "stream",
     "text": [
      "\u001b[1m\u001b[33mWARNING: \u001b[39m\u001b[22m\u001b[33mCouldn't initialize pyplot.  (might need to install it?)\u001b[39m\n",
      "\u001b[1m\u001b[36mINFO: \u001b[39m\u001b[22m\u001b[36mTo do a standard install of pyplot, copy and run this:\n",
      "\n",
      "\u001b[39m"
     ]
    },
    {
     "ename": "LoadError",
     "evalue": "InitError: \u001b[91mPyError (ccall(@pysym(:PyImport_ImportModule), PyPtr, (Cstring,), name)\n\nThe Python package mpl_toolkits.mplot3d could not be found by pyimport. Usually this means\nthat you did not install mpl_toolkits.mplot3d in the Python version being used by PyCall.\n\nPyCall is currently configured to use the Julia-specific Python distribution\ninstalled by the Conda.jl package.  To install the mpl_toolkits.mplot3d module, you can\nuse `pyimport_conda(\"mpl_toolkits.mplot3d\", PKG)`, where PKG is the Anaconda\npackage the contains the module mpl_toolkits.mplot3d, or alternatively you can use the\nConda package directly (via `using Conda` followed by `Conda.add` etcetera).\n\nAlternatively, if you want to use a different Python distribution on your\nsystem, such as a system-wide Python (as opposed to the Julia-specific Python),\nyou can re-configure PyCall with that Python.   As explained in the PyCall\ndocumentation, set ENV[\"PYTHON\"] to the path/name of the python executable\nyou want to use, run Pkg.build(\"PyCall\"), and re-launch Julia.\n\n) <type 'exceptions.ImportError'>\nImportError('No module named mpl_toolkits.mplot3d',)\n\u001b[39m\nduring initialization of module PyPlot",
     "output_type": "error",
     "traceback": [
      "InitError: \u001b[91mPyError (ccall(@pysym(:PyImport_ImportModule), PyPtr, (Cstring,), name)\n\nThe Python package mpl_toolkits.mplot3d could not be found by pyimport. Usually this means\nthat you did not install mpl_toolkits.mplot3d in the Python version being used by PyCall.\n\nPyCall is currently configured to use the Julia-specific Python distribution\ninstalled by the Conda.jl package.  To install the mpl_toolkits.mplot3d module, you can\nuse `pyimport_conda(\"mpl_toolkits.mplot3d\", PKG)`, where PKG is the Anaconda\npackage the contains the module mpl_toolkits.mplot3d, or alternatively you can use the\nConda package directly (via `using Conda` followed by `Conda.add` etcetera).\n\nAlternatively, if you want to use a different Python distribution on your\nsystem, such as a system-wide Python (as opposed to the Julia-specific Python),\nyou can re-configure PyCall with that Python.   As explained in the PyCall\ndocumentation, set ENV[\"PYTHON\"] to the path/name of the python executable\nyou want to use, run Pkg.build(\"PyCall\"), and re-launch Julia.\n\n) <type 'exceptions.ImportError'>\nImportError('No module named mpl_toolkits.mplot3d',)\n\u001b[39m\nduring initialization of module PyPlot",
      ""
     ]
    }
   ],
   "source": [
    "a = rand() + rand() * im\n",
    "\n",
    "function r(x)\n",
    "    return x^2 + a\n",
    "end\n",
    "\n",
    "for dx = -1.25:0.026:1.25\n",
    "    for dy = -1.25:0.026:1.25\n",
    "        num = dx + dy * im\n",
    "        result = g(r, num)\n",
    "        plot!(dx, dy)\n",
    "    end\n",
    "end"
   ]
  },
  {
   "cell_type": "code",
   "execution_count": 86,
   "metadata": {},
   "outputs": [
    {
     "name": "stdout",
     "output_type": "stream",
     "text": [
      "if !Plots.is_installed(\"PyPlot\")\n",
      "    Pkg.add(\"PyPlot\")\n",
      "end\n",
      "withenv(\"PYTHON\" => \"\") do\n",
      "    Pkg.build(\"PyPlot\")\n",
      "end\n",
      "\n",
      "# now restart julia!\n",
      "\n",
      "\n"
     ]
    },
    {
     "name": "stderr",
     "output_type": "stream",
     "text": [
      "\u001b[1m\u001b[33mWARNING: \u001b[39m\u001b[22m\u001b[33mCouldn't initialize pyplot.  (might need to install it?)\u001b[39m\n",
      "\u001b[1m\u001b[36mINFO: \u001b[39m\u001b[22m\u001b[36mTo do a standard install of pyplot, copy and run this:\n",
      "\n",
      "\u001b[39m"
     ]
    },
    {
     "ename": "LoadError",
     "evalue": "\u001b[91mPyError (ccall(@pysym(:PyImport_ImportModule), PyPtr, (Cstring,), name)\n\nThe Python package mpl_toolkits.mplot3d could not be found by pyimport. Usually this means\nthat you did not install mpl_toolkits.mplot3d in the Python version being used by PyCall.\n\nPyCall is currently configured to use the Julia-specific Python distribution\ninstalled by the Conda.jl package.  To install the mpl_toolkits.mplot3d module, you can\nuse `pyimport_conda(\"mpl_toolkits.mplot3d\", PKG)`, where PKG is the Anaconda\npackage the contains the module mpl_toolkits.mplot3d, or alternatively you can use the\nConda package directly (via `using Conda` followed by `Conda.add` etcetera).\n\nAlternatively, if you want to use a different Python distribution on your\nsystem, such as a system-wide Python (as opposed to the Julia-specific Python),\nyou can re-configure PyCall with that Python.   As explained in the PyCall\ndocumentation, set ENV[\"PYTHON\"] to the path/name of the python executable\nyou want to use, run Pkg.build(\"PyCall\"), and re-launch Julia.\n\n) <type 'exceptions.ImportError'>\nImportError('No module named mpl_toolkits.mplot3d',)\n\u001b[39m",
     "output_type": "error",
     "traceback": [
      "\u001b[91mPyError (ccall(@pysym(:PyImport_ImportModule), PyPtr, (Cstring,), name)\n\nThe Python package mpl_toolkits.mplot3d could not be found by pyimport. Usually this means\nthat you did not install mpl_toolkits.mplot3d in the Python version being used by PyCall.\n\nPyCall is currently configured to use the Julia-specific Python distribution\ninstalled by the Conda.jl package.  To install the mpl_toolkits.mplot3d module, you can\nuse `pyimport_conda(\"mpl_toolkits.mplot3d\", PKG)`, where PKG is the Anaconda\npackage the contains the module mpl_toolkits.mplot3d, or alternatively you can use the\nConda package directly (via `using Conda` followed by `Conda.add` etcetera).\n\nAlternatively, if you want to use a different Python distribution on your\nsystem, such as a system-wide Python (as opposed to the Julia-specific Python),\nyou can re-configure PyCall with that Python.   As explained in the PyCall\ndocumentation, set ENV[\"PYTHON\"] to the path/name of the python executable\nyou want to use, run Pkg.build(\"PyCall\"), and re-launch Julia.\n\n) <type 'exceptions.ImportError'>\nImportError('No module named mpl_toolkits.mplot3d',)\n\u001b[39m",
      ""
     ]
    }
   ],
   "source": [
    "using Plots\n",
    "pyplot()\n",
    "plot(1,2)"
   ]
  },
  {
   "cell_type": "code",
   "execution_count": null,
   "metadata": {
    "collapsed": true
   },
   "outputs": [],
   "source": []
  }
 ],
 "metadata": {
  "kernelspec": {
   "display_name": "Julia 0.6.2",
   "language": "julia",
   "name": "julia-0.6"
  },
  "language_info": {
   "file_extension": ".jl",
   "mimetype": "application/julia",
   "name": "julia",
   "version": "0.6.2"
  }
 },
 "nbformat": 4,
 "nbformat_minor": 2
}
